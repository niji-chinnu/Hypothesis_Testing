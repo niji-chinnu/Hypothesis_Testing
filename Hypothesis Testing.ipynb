{
 "cells": [
  {
   "cell_type": "code",
   "execution_count": 1,
   "metadata": {},
   "outputs": [],
   "source": [
    "import matplotlib.pyplot as plt\n",
    "import seaborn as sns\n",
    "import numpy as np\n",
    "import scipy\n",
    "from scipy.stats import t,norm\n"
   ]
  },
  {
   "cell_type": "markdown",
   "metadata": {},
   "source": [
    "### Q-1: Pista House selling Hyderabadi Chicken Dum biryani claims that each parcel packet has 500 grams of biryani (also mentioned on the label of packet). You are sceptic of their claims and believe that on average each packet does not contain 500 grams of biryani. How do you prove your claim?"
   ]
  },
  {
   "cell_type": "markdown",
   "metadata": {},
   "source": [
    "From the above problem we can get the following information\n",
    "1. population mean =500\n",
    "2. population standard deviation is unknown so we use T-Test to test hypothesis \n",
    "3. we have to find whether the biriyani packets has 500gm less or more biriyani so 2 tailed t-test\n",
    "\n",
    "## $ t = \\frac{\\bar{x}-\\mu_{\\bar{x}}}{\\frac{\\ S}{\\sqrt{n}}} $\n",
    "###  $\\bar x= Sample\\ mean$   \n",
    "###  $\\mu_{\\bar{x}}= Population\\ mean \\\\$$ S=\\ standard \\ deviation\\ of\\ sample $\n",
    "\n",
    "###  $\\ n=\\ no\\  of\\ sample\\ $\n",
    "\n",
    "\n"
   ]
  },
  {
   "cell_type": "markdown",
   "metadata": {},
   "source": [
    "####  $Null Hypothesis:\\ H_{0}$$ -\\ The \\ Biriyani \\  packets \\ contain \\ 500 \\ gms \\ of  \\ biriyani$\n",
    "\n",
    "####  $Alternate Hypothesis:\\ H_{1}$$-\\ The \\ biriyani \\ packets \\ does\\ not\\ contain \\ 500 \\ gms\\ of\\  biriyani$\n",
    "\n"
   ]
  },
  {
   "cell_type": "code",
   "execution_count": 2,
   "metadata": {},
   "outputs": [
    {
     "name": "stdout",
     "output_type": "stream",
     "text": [
      "460.6\n",
      "52.9021738683771\n"
     ]
    }
   ],
   "source": [
    "#Parameters \n",
    "pop_mean=500\n",
    "s= [456,430,340,510,490,505,418,439,520,498]\n",
    "sam_size=10\n",
    "sam_mean=np.mean(s)\n",
    "sam_std=np.std(s)\n",
    "print(sam_mean)\n",
    "print(sam_std)"
   ]
  },
  {
   "cell_type": "code",
   "execution_count": 3,
   "metadata": {},
   "outputs": [],
   "source": [
    "def t_score(sample_size,sam_mean,pop_mean,sam_std):\n",
    "    numerator = sam_mean - pop_mean\n",
    "    denominator = sam_std / np.sqrt(sam_size)\n",
    "    return numerator/denominator"
   ]
  },
  {
   "cell_type": "code",
   "execution_count": 4,
   "metadata": {},
   "outputs": [
    {
     "name": "stdout",
     "output_type": "stream",
     "text": [
      "-2.3551724002992525\n"
     ]
    }
   ],
   "source": [
    "#Calculating t_score\n",
    "T_score = t_score(sam_size,sam_mean,pop_mean,sam_std)\n",
    "print(T_score)"
   ]
  },
  {
   "cell_type": "code",
   "execution_count": 5,
   "metadata": {},
   "outputs": [
    {
     "name": "stdout",
     "output_type": "stream",
     "text": [
      "2.2621571627409915\n"
     ]
    }
   ],
   "source": [
    "#Calculating t_critical value\n",
    "# confidence interval is not given so default 95 % is taken\n",
    "confidence_level = 0.95\n",
    "df = 9 # degree of freedom = n-1\n",
    "alpha = 1 - confidence_level \n",
    "t_critical = t.ppf(1-alpha/2,df)\n",
    "print(t_critical)"
   ]
  },
  {
   "cell_type": "code",
   "execution_count": 6,
   "metadata": {},
   "outputs": [
    {
     "name": "stdout",
     "output_type": "stream",
     "text": [
      "462.15606458335276\n",
      "537.8439354166472\n"
     ]
    },
    {
     "data": {
      "text/plain": [
       "Text(460.6, 0.001, 'X_bar')"
      ]
     },
     "execution_count": 6,
     "metadata": {},
     "output_type": "execute_result"
    },
    {
     "data": {
      "image/png": "[encoded data removed]",
      "text/plain": [
       "<Figure size 432x288 with 1 Axes>"
      ]
     },
     "metadata": {
      "needs_background": "light"
     },
     "output_type": "display_data"
    }
   ],
   "source": [
    "#plotting the sample distribution with rejection region\n",
    "x_min = 400\n",
    "x_max = 600\n",
    "\n",
    "#defining sample mean and sample std\n",
    "mean = pop_mean\n",
    "std = sam_std/np.sqrt(sam_size)\n",
    "\n",
    "#plotting the graph and setting limits\n",
    "x = np.linspace(x_min,x_max,100)\n",
    "y = norm.pdf(x, mean ,std)\n",
    "plt.xlim(x_min,x_max)\n",
    "plt.plot(x,y)\n",
    "\n",
    "#Computing the left and right critical values\n",
    "t_critical_left = pop_mean - (t_critical*std)\n",
    "t_critical_right = pop_mean + (t_critical*std)\n",
    "print(t_critical_left)\n",
    "print(t_critical_right )\n",
    "\n",
    "#Shading the left rejection region\n",
    "x1 = np.linspace(x_min,t_critical_left,100)\n",
    "y1 = norm.pdf(x1,mean,std)\n",
    "plt.fill_between(x1,y1,color='yellow')\n",
    "\n",
    "#Shading the right rejection region\n",
    "x2 = np.linspace(t_critical_right,x_max,100)\n",
    "y2 = norm.pdf(x2,mean,std)\n",
    "plt.fill_between(x2,y2,color='yellow')\n",
    "\n",
    "#plotting the sample mean\n",
    "plt.scatter(sam_mean,0)\n",
    "plt.annotate('X_bar',(sam_mean,0.0010))"
   ]
  },
  {
   "cell_type": "code",
   "execution_count": 7,
   "metadata": {},
   "outputs": [
    {
     "name": "stdout",
     "output_type": "stream",
     "text": [
      "Reject null hypothesis\n"
     ]
    }
   ],
   "source": [
    "if(t_critical<np.abs(T_score)):\n",
    "    print(\"Reject null hypothesis\")\n",
    "else:\n",
    "    print(\"Failed to reject null hypothesis\")"
   ]
  },
  {
   "cell_type": "code",
   "execution_count": 8,
   "metadata": {},
   "outputs": [
    {
     "name": "stdout",
     "output_type": "stream",
     "text": [
      "P_value: 0.01851411386246049\n",
      "Reject null hypothesis\n",
      "alpha : 0.050000000000000044\n"
     ]
    }
   ],
   "source": [
    "#Conclusion using p-test:\n",
    "p_value = 2 * (1.0 - norm.cdf(np.abs(T_score)))\n",
    "print(\"P_value:\",p_value)\n",
    "if (p_value<alpha):\n",
    "    print(\"Reject null hypothesis\")\n",
    "else:\n",
    "    print(\"Failes to reject null hypothesis\")\n",
    "print(\"alpha :\",alpha)"
   ]
  },
  {
   "cell_type": "markdown",
   "metadata": {},
   "source": [
    "### Conclusion:\n",
    " ##### From t test and ptest we can conclude that the biriyani packet does not contain 500 gms of biriyani"
   ]
  },
  {
   "cell_type": "markdown",
   "metadata": {},
   "source": [
    "### Ques-2 : You have developed a new Natural Language Processing Algorithms and done a user study. You claim that the average rating given by the users is greater than 4 on a scale of 1 to 5. How do you prove this to your client?"
   ]
  },
  {
   "cell_type": "markdown",
   "metadata": {},
   "source": [
    "From the above problem we can get the following information\n",
    "1. population mean =4\n",
    "2. population standard deviation is unknown so we use T-Test to test hypothesis\n",
    "3. we have to find out whether the rating is above 4 we perform on tailed  t test \n",
    "\n",
    "## $ t = \\frac{\\bar{x}-\\mu_{\\bar{x}}}{\\frac{\\ S}{\\sqrt{n}}} $\n",
    "###  $\\bar x= Sample\\ mean$   \n",
    "###  $\\mu_{\\bar{x}}= Population\\ mean \\\\$$ S=\\ standard \\ deviation\\ of\\ sample $\n",
    "\n",
    "###  $\\ n=\\ no\\  of\\ sample\\ $"
   ]
  },
  {
   "cell_type": "markdown",
   "metadata": {},
   "source": [
    "####  $Null Hypothesis:\\ H_{0}$$ -\\ The \\ average\\  ratings \\ are \\  above \\ 4 $\n",
    "\n",
    "####  $Alternate Hypothesis:\\ H_{1}$$-\\ The \\ average \\ ratings  \\ are \\ not\\ above \\ 4 $"
   ]
  },
  {
   "cell_type": "code",
   "execution_count": 9,
   "metadata": {},
   "outputs": [
    {
     "name": "stdout",
     "output_type": "stream",
     "text": [
      "4.25\n",
      "0.82915619758885\n",
      "4\n"
     ]
    }
   ],
   "source": [
    "#Parameters \n",
    "pop_mean=4 \n",
    "s=[4,3,5,4,5,3,5,5,4,2,4,5,5,4,4,5,4,5,4,5] \n",
    "sam_size=20\n",
    "sam_mean=np.mean(s)\n",
    "sam_std=np.std(s)\n",
    "print(sam_mean)\n",
    "print(sam_std)\n",
    "print(pop_mean)"
   ]
  },
  {
   "cell_type": "code",
   "execution_count": 10,
   "metadata": {},
   "outputs": [],
   "source": [
    "def t_score(sample_size,sam_mean,pop_mean,sam_std):\n",
    "    numerator = sam_mean - pop_mean\n",
    "    denominator = sam_std / np.sqrt(sam_size)\n",
    "    return numerator/denominator"
   ]
  },
  {
   "cell_type": "code",
   "execution_count": 11,
   "metadata": {},
   "outputs": [
    {
     "name": "stdout",
     "output_type": "stream",
     "text": [
      "1.3483997249264843\n"
     ]
    }
   ],
   "source": [
    "# calculating t score\n",
    "T_score=t_score(sam_size,sam_mean,pop_mean,sam_std)\n",
    "print(T_score)"
   ]
  },
  {
   "cell_type": "code",
   "execution_count": 12,
   "metadata": {},
   "outputs": [
    {
     "name": "stdout",
     "output_type": "stream",
     "text": [
      "1.729132811521367\n"
     ]
    }
   ],
   "source": [
    "# calculatng t_critical_value\n",
    "CI=.95\n",
    "alpha=1-CI\n",
    "df=19\n",
    "t_critical_value=t.ppf(1-alpha,df)\n",
    "print(t_critical_value)"
   ]
  },
  {
   "cell_type": "code",
   "execution_count": 13,
   "metadata": {},
   "outputs": [
    {
     "name": "stdout",
     "output_type": "stream",
     "text": [
      "0.18540496217739155\n",
      "4.320589803519805\n"
     ]
    },
    {
     "data": {
      "text/plain": [
       "Text(4.25, 0.001, 'x_bar')"
      ]
     },
     "execution_count": 13,
     "metadata": {},
     "output_type": "execute_result"
    },
    {
     "data": {
      "image/png": "[encoded data removed]",
      "text/plain": [
       "<Figure size 432x288 with 1 Axes>"
      ]
     },
     "metadata": {
      "needs_background": "light"
     },
     "output_type": "display_data"
    }
   ],
   "source": [
    "#plotting the sampling distribution with rejection region\n",
    "x_min = 3.5\n",
    "x_max = 4.5\n",
    "\n",
    "#defining the sample mean and sample standard deviation\n",
    "mean = pop_mean\n",
    "std = sam_std/ np.sqrt(sam_size)\n",
    "print(std)\n",
    "\n",
    "#plotting the graph and setting x_limit\n",
    "x = np.linspace(x_min,x_max,100)\n",
    "y = norm.pdf(x,mean,std)\n",
    "plt.xlim(x_min,x_max)\n",
    "plt.plot(x,y)\n",
    "\n",
    "#Computing right critical t value\n",
    "t_critical_right = mean +(t_critical_value* std)\n",
    "print(t_critical_right)\n",
    "\n",
    "#shading the right rejection area\n",
    "x1 = np.linspace(t_critical_right,x_max,100)\n",
    "y1 = norm.pdf(x1,mean,std)\n",
    "plt.fill_between(x1,y1,color=\"red\")\n",
    "\n",
    "#plotting the sample_mean and concluding the results\n",
    "plt.scatter(sam_mean,0)\n",
    "plt.annotate(\"x_bar\",(sam_mean,0.001))"
   ]
  },
  {
   "cell_type": "code",
   "execution_count": 14,
   "metadata": {},
   "outputs": [
    {
     "name": "stdout",
     "output_type": "stream",
     "text": [
      "Failed to reject null hypothesis\n",
      "1.729132811521367\n",
      "1.3483997249264843\n"
     ]
    }
   ],
   "source": [
    "# conclusion from t test\n",
    "if (t_critical_value < T_score):\n",
    "       print(\"Reject null hypothesis\")\n",
    "else: \n",
    "    print(\"Failed to reject null hypothesis\")\n",
    "print (t_critical_value )\n",
    "print( T_score)"
   ]
  },
  {
   "cell_type": "code",
   "execution_count": 15,
   "metadata": {},
   "outputs": [
    {
     "name": "stdout",
     "output_type": "stream",
     "text": [
      "P_value : 0.08876492620607679\n",
      "Failed to reject null hypothesis\n",
      "alpha: 0.050000000000000044\n"
     ]
    }
   ],
   "source": [
    "#Conclusion using p-test\n",
    "p_value = 1.0 - norm.cdf(np.abs(T_score))\n",
    "print(\"P_value :\",p_value)\n",
    "if( p_value < alpha):\n",
    "    print(\"Reject null hypothesis\")\n",
    "else:\n",
    "    print(\"Failed to reject null hypothesis\")\n",
    "print(\"alpha:\",alpha)\n"
   ]
  },
  {
   "cell_type": "markdown",
   "metadata": {},
   "source": [
    "### Conclusion:\n",
    " ##### From t test and ptest we fail to reject null hypothesis ie the average ratings are above 4"
   ]
  },
  {
   "cell_type": "markdown",
   "metadata": {},
   "source": [
    "### Ques-3: TATA has developed a better fuel management system for the SUV segment. They claim that with this system, on average the SUV's mileage is at least 15 km/litre?"
   ]
  },
  {
   "cell_type": "markdown",
   "metadata": {},
   "source": [
    "From the above problem we can get the following information\n",
    "1. population mean =15\n",
    "2. population standard deviation is unknown so we use T-Test to test hypothesis \n",
    "3. we have to find whether the average SUV has mileage at least 15km/litre we perform one tailed t-test\n",
    "\n",
    "## $ t = \\frac{\\bar{x}-\\mu_{\\bar{x}}}{\\frac{\\ S}{\\sqrt{n}}} $\n",
    "###  $\\bar x= Sample\\ mean$   \n",
    "###  $\\mu_{\\bar{x}}= Population\\ mean \\\\$$ S=\\ standard \\ deviation\\ of\\ sample $\n",
    "\n",
    "###  $\\ n=\\ no\\  of\\ sample\\ $\n",
    "\n"
   ]
  },
  {
   "cell_type": "markdown",
   "metadata": {},
   "source": [
    "####  $Null Hypothesis:\\ H_{0}$$ -\\ The \\ average \\  SUV's \\ mileage \\ is \\ atleast \\ 15km \\ litre $\n",
    "\n",
    "####  $Alternate Hypothesis:\\ H_{1}$$-\\ The \\ average \\ SUV's \\ mileage \\ is \\ not \\ 15km \\ litre $"
   ]
  },
  {
   "cell_type": "code",
   "execution_count": 16,
   "metadata": {},
   "outputs": [
    {
     "name": "stdout",
     "output_type": "stream",
     "text": [
      "15.099\n",
      "0.9994043225842081\n"
     ]
    }
   ],
   "source": [
    "#parameters \n",
    "pop_mean=15\n",
    "s = [14.08,14.13,15.65,13.78,16.26,14.97,15.36,15.81,14.53,16.79,15.78,16.98,13.23,15.43,15.46,13.88,14.31,14.41,15.76,15.38]\n",
    "sam_size=20\n",
    "sam_mean=np.mean(s)\n",
    "sam_std=np.std(s)\n",
    "print(sam_mean)\n",
    "print(sam_std)"
   ]
  },
  {
   "cell_type": "code",
   "execution_count": 17,
   "metadata": {},
   "outputs": [],
   "source": [
    "def t_score(sam_size,sam_mean,pop_mean,sam_std):\n",
    "    numerator = sam_mean - pop_mean\n",
    "    denominator = sam_std / np.sqrt(sam_size)\n",
    "    return numerator/denominator"
   ]
  },
  {
   "cell_type": "code",
   "execution_count": 18,
   "metadata": {},
   "outputs": [
    {
     "name": "stdout",
     "output_type": "stream",
     "text": [
      "0.4430053478257341\n"
     ]
    }
   ],
   "source": [
    "#calculating t score\n",
    "T_score = t_score(sam_size,sam_mean,pop_mean,sam_std)\n",
    "print(T_score)"
   ]
  },
  {
   "cell_type": "code",
   "execution_count": 19,
   "metadata": {},
   "outputs": [
    {
     "name": "stdout",
     "output_type": "stream",
     "text": [
      "1.729132811521367\n"
     ]
    }
   ],
   "source": [
    "#Calculate t-critical\n",
    "confidence_level = 0.95\n",
    "alpha = 1 - confidence_level\n",
    "df = 19\n",
    "t_critical = t.ppf(1-alpha,df)\n",
    "print(t_critical)"
   ]
  },
  {
   "cell_type": "code",
   "execution_count": 20,
   "metadata": {},
   "outputs": [
    {
     "name": "stdout",
     "output_type": "stream",
     "text": [
      "0.22347360023054175\n",
      "15.386415534667439\n"
     ]
    },
    {
     "data": {
      "text/plain": [
       "Text(15.099, 0.01, 'x_bar')"
      ]
     },
     "execution_count": 20,
     "metadata": {},
     "output_type": "execute_result"
    },
    {
     "data": {
      "image/png": "[encoded data removed]",
      "text/plain": [
       "<Figure size 432x288 with 1 Axes>"
      ]
     },
     "metadata": {
      "needs_background": "light"
     },
     "output_type": "display_data"
    }
   ],
   "source": [
    "\n",
    "#plotting sampling distribution with rejection region\n",
    "x_min = 13\n",
    "x_max = 17\n",
    "\n",
    "#defining the sample mean and sample std\n",
    "mean = pop_mean\n",
    "std = sam_std /np.sqrt(sam_size)\n",
    "print(std)\n",
    "\n",
    "#plotting the graph and setting x limits\n",
    "x = np.linspace(x_min, x_max,100)\n",
    "y = norm.pdf(x,mean,std)\n",
    "plt.xlim(x_min,x_max)\n",
    "plt.plot(x,y)\n",
    "\n",
    "#defining the t critical right value\n",
    "t_critical_right = pop_mean + (t_critical * std)\n",
    "print(t_critical_right)\n",
    "#shading the rejection region\n",
    "x1 = np.linspace(t_critical_right,x_max,100)\n",
    "y1 = norm.pdf(x1,mean, std)\n",
    "plt.fill_between(x1,y1,color='red')\n",
    "\n",
    "#plotting sample mean and concluding results\n",
    "plt.scatter(sam_mean,0)\n",
    "plt.annotate(\"x_bar\",(sam_mean,0.01))"
   ]
  },
  {
   "cell_type": "code",
   "execution_count": 21,
   "metadata": {},
   "outputs": [
    {
     "name": "stdout",
     "output_type": "stream",
     "text": [
      "Failed to reject null hypothesis\n",
      "1.729132811521367\n",
      "0.4430053478257341\n"
     ]
    }
   ],
   "source": [
    "#Conclusion using t-test\n",
    "if(t_critical<T_score):\n",
    "    print(\"Reject null hypothesis\")\n",
    "else: \n",
    "    print(\"Failed to reject null hypothesis\")\n",
    "print(t_critical)\n",
    "print(T_score)\n",
    "    "
   ]
  },
  {
   "cell_type": "code",
   "execution_count": 22,
   "metadata": {},
   "outputs": [
    {
     "name": "stdout",
     "output_type": "stream",
     "text": [
      "P_value 0.3288809332844478\n",
      "Failed to reject null hypothesis\n",
      "alpha: 0.050000000000000044\n"
     ]
    }
   ],
   "source": [
    "#Conclusion using p-test\n",
    "p_value = 1.0 - norm.cdf(np.abs(T_score))\n",
    "print(\"P_value\",p_value)\n",
    "if (p_value<alpha):\n",
    "    print(\"Reject null hypothesis\")\n",
    "else:\n",
    "    print(\"Failed to reject null hypothesis\")\n",
    "print(\"alpha:\",alpha)"
   ]
  },
  {
   "cell_type": "markdown",
   "metadata": {},
   "source": [
    "### Conclusion:\n",
    " ##### From t test and ptest we fail to reject null hypothesis ie the average SUV's mileage is atleast 15 km/litre"
   ]
  },
  {
   "cell_type": "markdown",
   "metadata": {},
   "source": [
    "\n",
    "### Ques-4: You have developed a new Machine Learning Application and claim that on average it takes less than 100 ms to predict for any future datapoint. How do you convince your client about this claim?"
   ]
  },
  {
   "cell_type": "markdown",
   "metadata": {},
   "source": [
    "From the above problem we can get the following information\n",
    "1. population mean =100\n",
    "2. population standard deviation is unknown so we use T-Test to test hypothesis \n",
    "3. we have to find whether the machine learning application takes less than 100 ms to predict the future so we perform one tailed t test\n",
    "\n",
    "## $ t = \\frac{\\bar{x}-\\mu_{\\bar{x}}}{\\frac{\\ S}{\\sqrt{n}}} $\n",
    "###  $\\bar x= Sample\\ mean$   \n",
    "###  $\\mu_{\\bar{x}}= Population\\ mean \\\\$$ S=\\ standard \\ deviation\\ of\\ sample $\n",
    "\n",
    "###  $\\ n=\\ no\\  of\\ sample\\ $\n"
   ]
  },
  {
   "cell_type": "markdown",
   "metadata": {},
   "source": [
    "####  $Null Hypothesis:\\ H_{0}$$ -\\ The \\ machine \\ learning \\ applications  \\ takes  \\ less \\ than \\ 100ms  $\n",
    "\n",
    "####  $Alternate Hypothesis:\\ H_{1}$$-\\ The \\ machine \\ learning \\ applications  \\ takes  \\ more \\ than \\ 100ms  $"
   ]
  },
  {
   "cell_type": "code",
   "execution_count": 23,
   "metadata": {},
   "outputs": [
    {
     "name": "stdout",
     "output_type": "stream",
     "text": [
      "101.65\n",
      "10.374367450596688\n"
     ]
    }
   ],
   "source": [
    "#parameters \n",
    "pop_mean=100\n",
    "s = [110,99,87,120,89,98,95,97,119,102,105,109,100,93,82,116,107,102,112,91]\n",
    "sam_size=20\n",
    "sam_mean=np.mean(s)\n",
    "sam_std=np.std(s)\n",
    "print(sam_mean)\n",
    "print(sam_std)"
   ]
  },
  {
   "cell_type": "code",
   "execution_count": 24,
   "metadata": {},
   "outputs": [],
   "source": [
    "def t_score(sam_size,sam_mean,pop_mean,sam_std):\n",
    "    numerator = sam_mean - pop_mean\n",
    "    denominator = sam_std / np.sqrt(sam_size)\n",
    "    return numerator/denominator"
   ]
  },
  {
   "cell_type": "code",
   "execution_count": 25,
   "metadata": {},
   "outputs": [
    {
     "name": "stdout",
     "output_type": "stream",
     "text": [
      "0.7112746257435602\n"
     ]
    }
   ],
   "source": [
    "# calculating t score\n",
    "T_score = t_score(sam_size,sam_mean,pop_mean,sam_std)\n",
    "print(T_score)\n"
   ]
  },
  {
   "cell_type": "code",
   "execution_count": 26,
   "metadata": {},
   "outputs": [
    {
     "name": "stdout",
     "output_type": "stream",
     "text": [
      "1.729132811521367\n"
     ]
    }
   ],
   "source": [
    "#Calculate t-critical\n",
    "confidence_level = 0.95\n",
    "alpha = 1 - confidence_level\n",
    "df = 19\n",
    "t_critical = t.ppf(1-alpha,df)\n",
    "print(t_critical)"
   ]
  },
  {
   "cell_type": "code",
   "execution_count": 27,
   "metadata": {},
   "outputs": [
    {
     "name": "stdout",
     "output_type": "stream",
     "text": [
      "2.3197790843095385\n",
      "95.98879386983938\n"
     ]
    },
    {
     "data": {
      "text/plain": [
       "Text(101.65, 0.01, 'x_bar')"
      ]
     },
     "execution_count": 27,
     "metadata": {},
     "output_type": "execute_result"
    },
    {
     "data": {
      "image/png": "[encoded data removed]",
      "text/plain": [
       "<Figure size 432x288 with 1 Axes>"
      ]
     },
     "metadata": {
      "needs_background": "light"
     },
     "output_type": "display_data"
    }
   ],
   "source": [
    "\n",
    "#plotting sample distribution with rejection region\n",
    "x_min = 80\n",
    "x_max = 120\n",
    "\n",
    "#Calculating mean and standard deviation\n",
    "mean = pop_mean\n",
    "std = sam_std /np.sqrt(sam_size)\n",
    "print(std)\n",
    "#plotting the graph and setting xlimits\n",
    "x = np.linspace(x_min,x_max,100)\n",
    "y = norm.pdf(x,mean,std)\n",
    "plt.xlim(x_min,x_max)\n",
    "plt.plot(x,y)\n",
    "\n",
    "#defining t critical left value\n",
    "t_critical_left = pop_mean + (-t_critical * std)\n",
    "print(t_critical_left)\n",
    "#shading the rejection region\n",
    "x1 = np.linspace(x_min,t_critical_left,100)\n",
    "y1 = norm.pdf(x1,mean,std)\n",
    "plt.fill_between(x1,y1,color='red')\n",
    "\n",
    "#Plotting sample mean and conclusion\n",
    "plt.scatter(sam_mean,0)\n",
    "plt.annotate(\"x_bar\",(sam_mean,0.01))"
   ]
  },
  {
   "cell_type": "code",
   "execution_count": 28,
   "metadata": {},
   "outputs": [
    {
     "name": "stdout",
     "output_type": "stream",
     "text": [
      "Failed to reject null hypothesis\n",
      "1.729132811521367\n",
      "0.7112746257435602\n"
     ]
    }
   ],
   "source": [
    "#Conclusion using t-test\n",
    "if(t_critical<T_score):\n",
    "    print(\"Reject null hypothesis\")\n",
    "else: \n",
    "    print(\"Failed to reject null hypothesis\")\n",
    "print(t_critical)\n",
    "print(T_score)\n",
    "    "
   ]
  },
  {
   "cell_type": "code",
   "execution_count": 29,
   "metadata": {},
   "outputs": [
    {
     "name": "stdout",
     "output_type": "stream",
     "text": [
      "P_value 0.23845703615168035\n",
      "Failed to reject null hypothesis\n",
      "alpha: 0.050000000000000044\n"
     ]
    }
   ],
   "source": [
    "#Conclusion using p-test\n",
    "p_value = 1.0 - norm.cdf(np.abs(T_score))\n",
    "print(\"P_value\",p_value)\n",
    "if (p_value<alpha):\n",
    "    print(\"Reject null hypothesis\")\n",
    "else:\n",
    "    print(\"Failed to reject null hypothesis\")\n",
    "print(\"alpha:\",alpha)"
   ]
  },
  {
   "cell_type": "markdown",
   "metadata": {},
   "source": [
    "### Conclusion:\n",
    " ##### From t test and ptest we fail to reject null hypothesis ie the machile learning applications takes more than 100ms "
   ]
  },
  {
   "cell_type": "code",
   "execution_count": null,
   "metadata": {},
   "outputs": [],
   "source": []
  }
 ],
 "metadata": {
  "kernelspec": {
   "display_name": "Python 3",
   "language": "python",
   "name": "python3"
  },
  "language_info": {
   "codemirror_mode": {
    "name": "ipython",
    "version": 3
   },
   "file_extension": ".py",
   "mimetype": "text/x-python",
   "name": "python",
   "nbconvert_exporter": "python",
   "pygments_lexer": "ipython3",
   "version": "3.8.5"
  }
 },
 "nbformat": 4,
 "nbformat_minor": 4
}
